{
  "nbformat": 4,
  "nbformat_minor": 0,
  "metadata": {
    "colab": {
      "name": "원티드 프리온보딩 코스_제출.ipynb",
      "provenance": [],
      "collapsed_sections": [],
      "authorship_tag": "ABX9TyPftF0tIGhqd7c7YeAbAx0I",
      "include_colab_link": true
    },
    "kernelspec": {
      "name": "python3",
      "display_name": "Python 3"
    },
    "language_info": {
      "name": "python"
    }
  },
  "cells": [
    {
      "cell_type": "markdown",
      "metadata": {
        "id": "view-in-github",
        "colab_type": "text"
      },
      "source": [
        "<a href=\"https://colab.research.google.com/github/hyelimchoi1223/wanted_pre_onboarding/blob/main/%EC%9B%90%ED%8B%B0%EB%93%9C_%ED%94%84%EB%A6%AC%EC%98%A8%EB%B3%B4%EB%94%A9_%EC%BD%94%EC%8A%A4_%EC%A0%9C%EC%B6%9C.ipynb\" target=\"_parent\"><img src=\"https://colab.research.google.com/assets/colab-badge.svg\" alt=\"Open In Colab\"/></a>"
      ]
    },
    {
      "cell_type": "markdown",
      "source": [
        "# Tokenizer 생성하기"
      ],
      "metadata": {
        "id": "RKVviXDYZLsA"
      }
    },
    {
      "cell_type": "code",
      "source": [
        "import re"
      ],
      "metadata": {
        "id": "-tL6LABWeCJw"
      },
      "execution_count": 5,
      "outputs": []
    },
    {
      "cell_type": "code",
      "execution_count": 6,
      "metadata": {
        "id": "nxtPglJzZKFP"
      },
      "outputs": [],
      "source": [
        "class Tokenizer():\n",
        "  def __init__(self):\n",
        "    self.word_dict = {'oov': 0}\n",
        "    self.fit_checker = False\n",
        "  \n",
        "  def preprocessing(self, sequences):\n",
        "    result = []\n",
        "    for s in sequences:\n",
        "      s = s.lower()\n",
        "      s = re.sub(r'[^a-zA-Z ]', r'', s)\n",
        "      result.append(s.split(' '))\n",
        "    return result\n",
        "\n",
        "  def fit(self, sequences):\n",
        "    self.fit_checker = False\n",
        "\n",
        "    tokens = self.preprocessing(sequences)\n",
        "    one_lines = [t for s in tokens for t in s]\n",
        "    for o in one_lines:\n",
        "      last_idx = max(self.word_dict.values())\n",
        "      if o not in self.word_dict:\n",
        "        self.word_dict[o] = last_idx+1\n",
        "\n",
        "    self.fit_checker = True\n",
        "\n",
        "  def transform(self, sequences):\n",
        "    result = []\n",
        "    tokens = self.preprocessing(sequences)\n",
        "    if self.fit_checker:\n",
        "      for s in tokens:\n",
        "        indexing = []\n",
        "        for t in s:\n",
        "          if t in self.word_dict:\n",
        "            indexing.append(self.word_dict[t])\n",
        "          else:\n",
        "            indexing.append(self.word_dict['oov'])\n",
        "\n",
        "        result.append(indexing)\n",
        "      return result\n",
        "    else:\n",
        "      raise Exception(\"Tokenizer instance is not fitted yet.\")\n",
        "  \n",
        "  def fit_transform(self, sequences):\n",
        "    self.fit(sequences)\n",
        "    result = self.transform(sequences)\n",
        "    return result\n",
        "  "
      ]
    },
    {
      "cell_type": "markdown",
      "source": [
        "## 테스트 결과"
      ],
      "metadata": {
        "id": "foF5aEqutxYP"
      }
    },
    {
      "cell_type": "code",
      "source": [
        "tokenizer = Tokenizer()\n",
        "tokenizer.fit_transform(['I go to school.', 'I LIKE pizza!'])"
      ],
      "metadata": {
        "colab": {
          "base_uri": "https://localhost:8080/"
        },
        "id": "yTS8tL9irkYm",
        "outputId": "73a95dcc-88f1-45e4-9d06-684c96433139"
      },
      "execution_count": 71,
      "outputs": [
        {
          "output_type": "execute_result",
          "data": {
            "text/plain": [
              "[[1, 2, 3, 4], [1, 5, 6]]"
            ]
          },
          "metadata": {},
          "execution_count": 71
        }
      ]
    },
    {
      "cell_type": "markdown",
      "source": [
        "# TfidfVectorizer 생성하기\n"
      ],
      "metadata": {
        "id": "iDPB9A_GZO3E"
      }
    },
    {
      "cell_type": "code",
      "source": [
        "import math"
      ],
      "metadata": {
        "id": "_x40vhwNZcWa"
      },
      "execution_count": 15,
      "outputs": []
    },
    {
      "cell_type": "code",
      "source": [
        "class TfidfVectorizer:\n",
        "  def __init__(self, tokenizer):\n",
        "    self.tokenizer = tokenizer\n",
        "    self.fit_checker = False\n",
        "    self.idf_array = []\n",
        "    self.tfidf_matrix = []\n",
        "  \n",
        "  def __df(self, D, t):\n",
        "    temp = [d for d in D if t in d]\n",
        "    return len(temp)\n",
        "\n",
        "\n",
        "  def __idf(self, D, t):\n",
        "    n = len(D)\n",
        "    df = self.__df(D, t)\n",
        "    result = math.log(n/(1+df))\n",
        "    if result <=0:\n",
        "      result = 0.0\n",
        "    return result\n",
        "\n",
        "  def __tf(self, d, t):\n",
        "    return d.count(t)\n",
        "\n",
        "  def __tf_idf(self, d, D):\n",
        "    tf_idf = []\n",
        "    for idx, (key, value) in enumerate(self.tokenizer.word_dict.items()):\n",
        "      tf = self.__tf(d, value)\n",
        "      idf = self.idf_array[idx]\n",
        "      tf_idf.append(tf*idf)\n",
        "    return tf_idf\n",
        "\n",
        "  \n",
        "  def fit(self, sequences):\n",
        "    tokenized = self.tokenizer.fit_transform(sequences)\n",
        "    for key, value in self.tokenizer.word_dict.items():\n",
        "      self.idf_array.append(self.__idf(tokenized, value))\n",
        "\n",
        "    self.fit_checker = True\n",
        "    \n",
        "\n",
        "  def transform(self, sequences):\n",
        "    if self.fit_checker:\n",
        "      tokenized = self.tokenizer.transform(sequences)\n",
        "      for d in tokenized:\n",
        "        self.tfidf_matrix.append(self.__tf_idf(d, tokenized))\n",
        "      return self.tfidf_matrix\n",
        "    else:\n",
        "      raise Exception(\"TfidfVectorizer instance is not fitted yet.\")\n",
        "\n",
        "  \n",
        "  def fit_transform(self, sequences):\n",
        "    self.fit(sequences)\n",
        "    return self.transform(sequences)"
      ],
      "metadata": {
        "id": "J9R3ftPkeDvN"
      },
      "execution_count": 74,
      "outputs": []
    },
    {
      "cell_type": "markdown",
      "source": [
        "## 테스트 결과"
      ],
      "metadata": {
        "id": "1MJ8FwoYtz4Z"
      }
    },
    {
      "cell_type": "code",
      "source": [
        "tokenizer = Tokenizer()\n",
        "tf = TfidfVectorizer(tokenizer)\n",
        "matrix = tf.fit_transform(['I go to school.', 'I LIKE pizza!', 'I went to school.'])\n",
        "print(matrix)"
      ],
      "metadata": {
        "colab": {
          "base_uri": "https://localhost:8080/"
        },
        "id": "BrNrY1JTmPzn",
        "outputId": "6b05e0c8-fd54-4224-df26-c99b14ab3996"
      },
      "execution_count": 75,
      "outputs": [
        {
          "output_type": "stream",
          "name": "stdout",
          "text": [
            "[[0.0, 0.0, 0.4054651081081644, 0.0, 0.0, 0.0, 0.0, 0.0], [0.0, 0.0, 0.0, 0.0, 0.0, 0.4054651081081644, 0.4054651081081644, 0.0], [0.0, 0.0, 0.0, 0.0, 0.0, 0.0, 0.0, 0.4054651081081644]]\n"
          ]
        }
      ]
    }
  ]
}